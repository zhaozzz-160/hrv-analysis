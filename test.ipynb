{
 "cells": [
  {
   "cell_type": "code",
   "execution_count": 1,
   "metadata": {},
   "outputs": [],
   "source": [
    "import json\n",
    "import pandas as pd"
   ]
  },
  {
   "cell_type": "code",
   "execution_count": 9,
   "metadata": {},
   "outputs": [
    {
     "name": "stdout",
     "output_type": "stream",
     "text": [
      "0 days 00:01:00\n",
      "0 days 00:01:00\n",
      "0 days 00:01:00\n",
      "0 days 00:01:00\n"
     ]
    },
    {
     "ename": "IndexError",
     "evalue": "single positional indexer is out-of-bounds",
     "output_type": "error",
     "traceback": [
      "\u001b[0;31m---------------------------------------------------------------------------\u001b[0m",
      "\u001b[0;31mIndexError\u001b[0m                                Traceback (most recent call last)",
      "\u001b[1;32m/home/ubuntu/working-dir/huawei_data-proj/心率变异性/test.ipynb Cell 2'\u001b[0m in \u001b[0;36m<cell line: 4>\u001b[0;34m()\u001b[0m\n\u001b[1;32m      <a href='vscode-notebook-cell:/home/ubuntu/working-dir/huawei_data-proj/%E5%BF%83%E7%8E%87%E5%8F%98%E5%BC%82%E6%80%A7/test.ipynb#ch0000001?line=1'>2</a>\u001b[0m df[\u001b[39m'\u001b[39m\u001b[39mrecordtime\u001b[39m\u001b[39m'\u001b[39m] \u001b[39m=\u001b[39m pd\u001b[39m.\u001b[39mto_datetime(df[\u001b[39m'\u001b[39m\u001b[39mrecordtime\u001b[39m\u001b[39m'\u001b[39m])\n\u001b[1;32m      <a href='vscode-notebook-cell:/home/ubuntu/working-dir/huawei_data-proj/%E5%BF%83%E7%8E%87%E5%8F%98%E5%BC%82%E6%80%A7/test.ipynb#ch0000001?line=3'>4</a>\u001b[0m \u001b[39mfor\u001b[39;00m index, row \u001b[39min\u001b[39;00m df\u001b[39m.\u001b[39mhead()\u001b[39m.\u001b[39miterrows():\n\u001b[0;32m----> <a href='vscode-notebook-cell:/home/ubuntu/working-dir/huawei_data-proj/%E5%BF%83%E7%8E%87%E5%8F%98%E5%BC%82%E6%80%A7/test.ipynb#ch0000001?line=4'>5</a>\u001b[0m     \u001b[39mprint\u001b[39m(df\u001b[39m.\u001b[39mhead()\u001b[39m.\u001b[39miloc[index][\u001b[39m'\u001b[39m\u001b[39mrecordtime\u001b[39m\u001b[39m'\u001b[39m] \u001b[39m-\u001b[39m df\u001b[39m.\u001b[39;49mhead()\u001b[39m.\u001b[39;49miloc[index\u001b[39m+\u001b[39;49m\u001b[39m1\u001b[39;49m][\u001b[39m'\u001b[39m\u001b[39mrecordtime\u001b[39m\u001b[39m'\u001b[39m])\n",
      "File \u001b[0;32m~/working-dir/huawei_data-proj/心率变异性/venv/lib/python3.8/site-packages/pandas/core/indexing.py:967\u001b[0m, in \u001b[0;36m_LocationIndexer.__getitem__\u001b[0;34m(self, key)\u001b[0m\n\u001b[1;32m    <a href='file:///home/ubuntu/working-dir/huawei_data-proj/%E5%BF%83%E7%8E%87%E5%8F%98%E5%BC%82%E6%80%A7/venv/lib/python3.8/site-packages/pandas/core/indexing.py?line=963'>964</a>\u001b[0m axis \u001b[39m=\u001b[39m \u001b[39mself\u001b[39m\u001b[39m.\u001b[39maxis \u001b[39mor\u001b[39;00m \u001b[39m0\u001b[39m\n\u001b[1;32m    <a href='file:///home/ubuntu/working-dir/huawei_data-proj/%E5%BF%83%E7%8E%87%E5%8F%98%E5%BC%82%E6%80%A7/venv/lib/python3.8/site-packages/pandas/core/indexing.py?line=965'>966</a>\u001b[0m maybe_callable \u001b[39m=\u001b[39m com\u001b[39m.\u001b[39mapply_if_callable(key, \u001b[39mself\u001b[39m\u001b[39m.\u001b[39mobj)\n\u001b[0;32m--> <a href='file:///home/ubuntu/working-dir/huawei_data-proj/%E5%BF%83%E7%8E%87%E5%8F%98%E5%BC%82%E6%80%A7/venv/lib/python3.8/site-packages/pandas/core/indexing.py?line=966'>967</a>\u001b[0m \u001b[39mreturn\u001b[39;00m \u001b[39mself\u001b[39;49m\u001b[39m.\u001b[39;49m_getitem_axis(maybe_callable, axis\u001b[39m=\u001b[39;49maxis)\n",
      "File \u001b[0;32m~/working-dir/huawei_data-proj/心率变异性/venv/lib/python3.8/site-packages/pandas/core/indexing.py:1520\u001b[0m, in \u001b[0;36m_iLocIndexer._getitem_axis\u001b[0;34m(self, key, axis)\u001b[0m\n\u001b[1;32m   <a href='file:///home/ubuntu/working-dir/huawei_data-proj/%E5%BF%83%E7%8E%87%E5%8F%98%E5%BC%82%E6%80%A7/venv/lib/python3.8/site-packages/pandas/core/indexing.py?line=1516'>1517</a>\u001b[0m     \u001b[39mraise\u001b[39;00m \u001b[39mTypeError\u001b[39;00m(\u001b[39m\"\u001b[39m\u001b[39mCannot index by location index with a non-integer key\u001b[39m\u001b[39m\"\u001b[39m)\n\u001b[1;32m   <a href='file:///home/ubuntu/working-dir/huawei_data-proj/%E5%BF%83%E7%8E%87%E5%8F%98%E5%BC%82%E6%80%A7/venv/lib/python3.8/site-packages/pandas/core/indexing.py?line=1518'>1519</a>\u001b[0m \u001b[39m# validate the location\u001b[39;00m\n\u001b[0;32m-> <a href='file:///home/ubuntu/working-dir/huawei_data-proj/%E5%BF%83%E7%8E%87%E5%8F%98%E5%BC%82%E6%80%A7/venv/lib/python3.8/site-packages/pandas/core/indexing.py?line=1519'>1520</a>\u001b[0m \u001b[39mself\u001b[39;49m\u001b[39m.\u001b[39;49m_validate_integer(key, axis)\n\u001b[1;32m   <a href='file:///home/ubuntu/working-dir/huawei_data-proj/%E5%BF%83%E7%8E%87%E5%8F%98%E5%BC%82%E6%80%A7/venv/lib/python3.8/site-packages/pandas/core/indexing.py?line=1521'>1522</a>\u001b[0m \u001b[39mreturn\u001b[39;00m \u001b[39mself\u001b[39m\u001b[39m.\u001b[39mobj\u001b[39m.\u001b[39m_ixs(key, axis\u001b[39m=\u001b[39maxis)\n",
      "File \u001b[0;32m~/working-dir/huawei_data-proj/心率变异性/venv/lib/python3.8/site-packages/pandas/core/indexing.py:1452\u001b[0m, in \u001b[0;36m_iLocIndexer._validate_integer\u001b[0;34m(self, key, axis)\u001b[0m\n\u001b[1;32m   <a href='file:///home/ubuntu/working-dir/huawei_data-proj/%E5%BF%83%E7%8E%87%E5%8F%98%E5%BC%82%E6%80%A7/venv/lib/python3.8/site-packages/pandas/core/indexing.py?line=1449'>1450</a>\u001b[0m len_axis \u001b[39m=\u001b[39m \u001b[39mlen\u001b[39m(\u001b[39mself\u001b[39m\u001b[39m.\u001b[39mobj\u001b[39m.\u001b[39m_get_axis(axis))\n\u001b[1;32m   <a href='file:///home/ubuntu/working-dir/huawei_data-proj/%E5%BF%83%E7%8E%87%E5%8F%98%E5%BC%82%E6%80%A7/venv/lib/python3.8/site-packages/pandas/core/indexing.py?line=1450'>1451</a>\u001b[0m \u001b[39mif\u001b[39;00m key \u001b[39m>\u001b[39m\u001b[39m=\u001b[39m len_axis \u001b[39mor\u001b[39;00m key \u001b[39m<\u001b[39m \u001b[39m-\u001b[39mlen_axis:\n\u001b[0;32m-> <a href='file:///home/ubuntu/working-dir/huawei_data-proj/%E5%BF%83%E7%8E%87%E5%8F%98%E5%BC%82%E6%80%A7/venv/lib/python3.8/site-packages/pandas/core/indexing.py?line=1451'>1452</a>\u001b[0m     \u001b[39mraise\u001b[39;00m \u001b[39mIndexError\u001b[39;00m(\u001b[39m\"\u001b[39m\u001b[39msingle positional indexer is out-of-bounds\u001b[39m\u001b[39m\"\u001b[39m)\n",
      "\u001b[0;31mIndexError\u001b[0m: single positional indexer is out-of-bounds"
     ]
    }
   ],
   "source": [
    "df = pd.read_csv('/home/ubuntu/working-dir/huawei_data-proj/心率变异性/data/raw/t_ilqzwbks_continuousrri_system_1652601039631_0.csv')\n",
    "df['recordtime'] = pd.to_datetime(df['recordtime'])\n",
    "\n",
    "for index, row in df.head().iterrows():\n",
    "    print(df.head().iloc[index]['recordtime'] - df.head().iloc[index+1]['recordtime'])"
   ]
  },
  {
   "cell_type": "code",
   "execution_count": null,
   "metadata": {},
   "outputs": [],
   "source": []
  }
 ],
 "metadata": {
  "interpreter": {
   "hash": "1b0b4fd20894c32343ac12e4b581ebbbd19d1e80c5282282fb3af3d2c3227939"
  },
  "kernelspec": {
   "display_name": "Python 3.8.12 ('venv': venv)",
   "language": "python",
   "name": "python3"
  },
  "language_info": {
   "codemirror_mode": {
    "name": "ipython",
    "version": 3
   },
   "file_extension": ".py",
   "mimetype": "text/x-python",
   "name": "python",
   "nbconvert_exporter": "python",
   "pygments_lexer": "ipython3",
   "version": "3.8.12"
  },
  "orig_nbformat": 4
 },
 "nbformat": 4,
 "nbformat_minor": 2
}
